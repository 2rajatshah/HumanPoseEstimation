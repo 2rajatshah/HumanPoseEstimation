{
  "nbformat": 4,
  "nbformat_minor": 0,
  "metadata": {
    "colab": {
      "name": "DL_Assignment-2.ipynb",
      "provenance": [],
      "collapsed_sections": []
    },
    "kernelspec": {
      "name": "python3",
      "display_name": "Python 3"
    },
    "accelerator": "GPU"
  },
  "cells": [
    {
      "cell_type": "markdown",
      "metadata": {
        "id": "CFbQ_8T1cRJY",
        "colab_type": "text"
      },
      "source": [
        "0=Angry, 1=Disgust, 2=Fear, 3=Happy, 4=Sad, 5=Surprise, 6=Neutral"
      ]
    },
    {
      "cell_type": "code",
      "metadata": {
        "id": "M-AHkEtVQiDt",
        "colab_type": "code",
        "outputId": "a2e5c9de-b8ee-4ce0-9831-84c815a1efa1",
        "colab": {
          "base_uri": "https://localhost:8080/",
          "height": 587
        }
      },
      "source": [
        "!pip install tensorflow-gpu==2.0.0-rc0"
      ],
      "execution_count": 1,
      "outputs": [
        {
          "output_type": "stream",
          "text": [
            "Collecting tensorflow-gpu==2.0.0-rc0\n",
            "\u001b[?25l  Downloading https://files.pythonhosted.org/packages/6a/12/8c64cc62149cc21c70c55018502831bbf4d42bd62bed196df7de6830d21b/tensorflow_gpu-2.0.0rc0-cp36-cp36m-manylinux2010_x86_64.whl (380.5MB)\n",
            "\u001b[K     |████████████████████████████████| 380.5MB 39kB/s \n",
            "\u001b[?25hRequirement already satisfied: wrapt>=1.11.1 in /usr/local/lib/python3.6/dist-packages (from tensorflow-gpu==2.0.0-rc0) (1.12.1)\n",
            "Collecting tf-estimator-nightly<1.14.0.dev2019080602,>=1.14.0.dev2019080601\n",
            "\u001b[?25l  Downloading https://files.pythonhosted.org/packages/21/28/f2a27a62943d5f041e4a6fd404b2d21cb7c59b2242a4e73b03d9ba166552/tf_estimator_nightly-1.14.0.dev2019080601-py2.py3-none-any.whl (501kB)\n",
            "\u001b[K     |████████████████████████████████| 501kB 50.3MB/s \n",
            "\u001b[?25hRequirement already satisfied: opt-einsum>=2.3.2 in /usr/local/lib/python3.6/dist-packages (from tensorflow-gpu==2.0.0-rc0) (3.2.1)\n",
            "Requirement already satisfied: keras-applications>=1.0.8 in /usr/local/lib/python3.6/dist-packages (from tensorflow-gpu==2.0.0-rc0) (1.0.8)\n",
            "Requirement already satisfied: termcolor>=1.1.0 in /usr/local/lib/python3.6/dist-packages (from tensorflow-gpu==2.0.0-rc0) (1.1.0)\n",
            "Requirement already satisfied: grpcio>=1.8.6 in /usr/local/lib/python3.6/dist-packages (from tensorflow-gpu==2.0.0-rc0) (1.29.0)\n",
            "Collecting tb-nightly<1.15.0a20190807,>=1.15.0a20190806\n",
            "\u001b[?25l  Downloading https://files.pythonhosted.org/packages/bc/88/24b5fb7280e74c7cf65bde47c171547fd02afb3840cff41bcbe9270650f5/tb_nightly-1.15.0a20190806-py3-none-any.whl (4.3MB)\n",
            "\u001b[K     |████████████████████████████████| 4.3MB 51.0MB/s \n",
            "\u001b[?25hRequirement already satisfied: absl-py>=0.7.0 in /usr/local/lib/python3.6/dist-packages (from tensorflow-gpu==2.0.0-rc0) (0.9.0)\n",
            "Requirement already satisfied: six>=1.10.0 in /usr/local/lib/python3.6/dist-packages (from tensorflow-gpu==2.0.0-rc0) (1.12.0)\n",
            "Requirement already satisfied: numpy<2.0,>=1.16.0 in /usr/local/lib/python3.6/dist-packages (from tensorflow-gpu==2.0.0-rc0) (1.18.4)\n",
            "Requirement already satisfied: protobuf>=3.6.1 in /usr/local/lib/python3.6/dist-packages (from tensorflow-gpu==2.0.0-rc0) (3.10.0)\n",
            "Requirement already satisfied: astor>=0.6.0 in /usr/local/lib/python3.6/dist-packages (from tensorflow-gpu==2.0.0-rc0) (0.8.1)\n",
            "Requirement already satisfied: keras-preprocessing>=1.0.5 in /usr/local/lib/python3.6/dist-packages (from tensorflow-gpu==2.0.0-rc0) (1.1.2)\n",
            "Requirement already satisfied: gast>=0.2.0 in /usr/local/lib/python3.6/dist-packages (from tensorflow-gpu==2.0.0-rc0) (0.3.3)\n",
            "Requirement already satisfied: wheel>=0.26 in /usr/local/lib/python3.6/dist-packages (from tensorflow-gpu==2.0.0-rc0) (0.34.2)\n",
            "Requirement already satisfied: google-pasta>=0.1.6 in /usr/local/lib/python3.6/dist-packages (from tensorflow-gpu==2.0.0-rc0) (0.2.0)\n",
            "Requirement already satisfied: h5py in /usr/local/lib/python3.6/dist-packages (from keras-applications>=1.0.8->tensorflow-gpu==2.0.0-rc0) (2.10.0)\n",
            "Requirement already satisfied: setuptools>=41.0.0 in /usr/local/lib/python3.6/dist-packages (from tb-nightly<1.15.0a20190807,>=1.15.0a20190806->tensorflow-gpu==2.0.0-rc0) (46.4.0)\n",
            "Requirement already satisfied: werkzeug>=0.11.15 in /usr/local/lib/python3.6/dist-packages (from tb-nightly<1.15.0a20190807,>=1.15.0a20190806->tensorflow-gpu==2.0.0-rc0) (1.0.1)\n",
            "Requirement already satisfied: markdown>=2.6.8 in /usr/local/lib/python3.6/dist-packages (from tb-nightly<1.15.0a20190807,>=1.15.0a20190806->tensorflow-gpu==2.0.0-rc0) (3.2.2)\n",
            "Requirement already satisfied: importlib-metadata; python_version < \"3.8\" in /usr/local/lib/python3.6/dist-packages (from markdown>=2.6.8->tb-nightly<1.15.0a20190807,>=1.15.0a20190806->tensorflow-gpu==2.0.0-rc0) (1.6.0)\n",
            "Requirement already satisfied: zipp>=0.5 in /usr/local/lib/python3.6/dist-packages (from importlib-metadata; python_version < \"3.8\"->markdown>=2.6.8->tb-nightly<1.15.0a20190807,>=1.15.0a20190806->tensorflow-gpu==2.0.0-rc0) (3.1.0)\n",
            "Installing collected packages: tf-estimator-nightly, tb-nightly, tensorflow-gpu\n",
            "Successfully installed tb-nightly-1.15.0a20190806 tensorflow-gpu-2.0.0rc0 tf-estimator-nightly-1.14.0.dev2019080601\n"
          ],
          "name": "stdout"
        }
      ]
    },
    {
      "cell_type": "code",
      "metadata": {
        "id": "gVHO1BCjcC2k",
        "colab_type": "code",
        "colab": {}
      },
      "source": [
        "import pandas as pd\n",
        "import numpy as np\n",
        "import matplotlib.pyplot as plt\n",
        "%matplotlib inline\n",
        "\n",
        "from sklearn.model_selection import train_test_split"
      ],
      "execution_count": 0,
      "outputs": []
    },
    {
      "cell_type": "code",
      "metadata": {
        "id": "47ioQ_kIq0qQ",
        "colab_type": "code",
        "colab": {}
      },
      "source": [
        "output_class = {0:'Angry', 1:'Disgust', 2:'Fear', 3:'Happy', 4:'Sad', 5:'Surprise', 6:'Neutral'}"
      ],
      "execution_count": 0,
      "outputs": []
    },
    {
      "cell_type": "code",
      "metadata": {
        "id": "vEVQhumVq11H",
        "colab_type": "code",
        "colab": {}
      },
      "source": [
        "from pydrive.auth import GoogleAuth\n",
        "from pydrive.drive import GoogleDrive\n",
        "from google.colab import auth\n",
        "from oauth2client.client import GoogleCredentials\n",
        "auth.authenticate_user()\n",
        "gauth = GoogleAuth()\n",
        "gauth.credentials = GoogleCredentials.get_application_default()\n",
        "drive = GoogleDrive(gauth)"
      ],
      "execution_count": 0,
      "outputs": []
    },
    {
      "cell_type": "code",
      "metadata": {
        "id": "kSx8CPQHq151",
        "colab_type": "code",
        "colab": {}
      },
      "source": [
        "link = 'https://drive.google.com/open?id=1LPQ8bvtV0PoStg2wzEbZlauR-qnrreUf'\n",
        "downloaded = drive.CreateFile({'id':\"1LPQ8bvtV0PoStg2wzEbZlauR-qnrreUf\"})   # replace the id with id of file you want to access\n",
        "downloaded.GetContentFile('fer2013.csv') \n",
        "# model_vgg = tf.keras.models.load_model('HPE-part1-VGG16_try3.h5')\n",
        "\n",
        "data = pd.read_csv('fer2013.csv')"
      ],
      "execution_count": 0,
      "outputs": []
    },
    {
      "cell_type": "code",
      "metadata": {
        "id": "xgbeILbcq2AR",
        "colab_type": "code",
        "outputId": "7d4c31eb-3436-476a-9c03-409f9a575a03",
        "colab": {
          "base_uri": "https://localhost:8080/",
          "height": 197
        }
      },
      "source": [
        "data.head()"
      ],
      "execution_count": 11,
      "outputs": [
        {
          "output_type": "execute_result",
          "data": {
            "text/html": [
              "<div>\n",
              "<style scoped>\n",
              "    .dataframe tbody tr th:only-of-type {\n",
              "        vertical-align: middle;\n",
              "    }\n",
              "\n",
              "    .dataframe tbody tr th {\n",
              "        vertical-align: top;\n",
              "    }\n",
              "\n",
              "    .dataframe thead th {\n",
              "        text-align: right;\n",
              "    }\n",
              "</style>\n",
              "<table border=\"1\" class=\"dataframe\">\n",
              "  <thead>\n",
              "    <tr style=\"text-align: right;\">\n",
              "      <th></th>\n",
              "      <th>emotion</th>\n",
              "      <th>pixels</th>\n",
              "      <th>Usage</th>\n",
              "    </tr>\n",
              "  </thead>\n",
              "  <tbody>\n",
              "    <tr>\n",
              "      <th>0</th>\n",
              "      <td>0</td>\n",
              "      <td>70 80 82 72 58 58 60 63 54 58 60 48 89 115 121...</td>\n",
              "      <td>Training</td>\n",
              "    </tr>\n",
              "    <tr>\n",
              "      <th>1</th>\n",
              "      <td>0</td>\n",
              "      <td>151 150 147 155 148 133 111 140 170 174 182 15...</td>\n",
              "      <td>Training</td>\n",
              "    </tr>\n",
              "    <tr>\n",
              "      <th>2</th>\n",
              "      <td>2</td>\n",
              "      <td>231 212 156 164 174 138 161 173 182 200 106 38...</td>\n",
              "      <td>Training</td>\n",
              "    </tr>\n",
              "    <tr>\n",
              "      <th>3</th>\n",
              "      <td>4</td>\n",
              "      <td>24 32 36 30 32 23 19 20 30 41 21 22 32 34 21 1...</td>\n",
              "      <td>Training</td>\n",
              "    </tr>\n",
              "    <tr>\n",
              "      <th>4</th>\n",
              "      <td>6</td>\n",
              "      <td>4 0 0 0 0 0 0 0 0 0 0 0 3 15 23 28 48 50 58 84...</td>\n",
              "      <td>Training</td>\n",
              "    </tr>\n",
              "  </tbody>\n",
              "</table>\n",
              "</div>"
            ],
            "text/plain": [
              "   emotion                                             pixels     Usage\n",
              "0        0  70 80 82 72 58 58 60 63 54 58 60 48 89 115 121...  Training\n",
              "1        0  151 150 147 155 148 133 111 140 170 174 182 15...  Training\n",
              "2        2  231 212 156 164 174 138 161 173 182 200 106 38...  Training\n",
              "3        4  24 32 36 30 32 23 19 20 30 41 21 22 32 34 21 1...  Training\n",
              "4        6  4 0 0 0 0 0 0 0 0 0 0 0 3 15 23 28 48 50 58 84...  Training"
            ]
          },
          "metadata": {
            "tags": []
          },
          "execution_count": 11
        }
      ]
    },
    {
      "cell_type": "code",
      "metadata": {
        "id": "p_8cTEnDb8-N",
        "colab_type": "code",
        "colab": {}
      },
      "source": [
        "# def x_reshape(df):\n",
        "#   temp = list() \n",
        "#   print(f'Total elements : {df.shape[0]}')\n",
        "#   for i in range(df.pixels.shape[0]):\n",
        "#     z1 = np.reshape([int(i)/255.0 for i in list( (df.pixels.iloc[i]).split())], newshape = (48,48,1) )\n",
        "#     temp.append(z1)\n",
        "#   return np.array(temp)\n"
      ],
      "execution_count": 0,
      "outputs": []
    },
    {
      "cell_type": "code",
      "metadata": {
        "id": "wZovMqzOq2Gi",
        "colab_type": "code",
        "outputId": "e702a2df-65c6-4f74-a34e-b99a5c5e2c9c",
        "colab": {
          "base_uri": "https://localhost:8080/",
          "height": 70
        }
      },
      "source": [
        "# data.Usage.unique()\n",
        "# train = data[data.Usage == 'Training']\n",
        "\n",
        "# validation = data[data.Usage == 'PublicTest']\n",
        "# test = data[data.Usage == 'PrivateTest']\n",
        "\n",
        "X_train = np.array(list(map(str.split, data[data.Usage =='Training'].pixels)) , np.float32).reshape((data[data.Usage =='Training'].pixels.shape[0],48,48,1))\n",
        "X_val = np.array(list(map(str.split, data[data.Usage =='PublicTest'].pixels)) , np.float32).reshape((data[data.Usage =='PublicTest'].pixels.shape[0],48,48,1))\n",
        "X_test = np.array(list(map(str.split, data[data.Usage =='PrivateTest'].pixels)) , np.float32).reshape((data[data.Usage =='PrivateTest'].pixels.shape[0],48,48,1))\n",
        "\n",
        "print(f'train.shape : {X_train.shape}')\n",
        "print(f'validation.shape : {X_val.shape}')\n",
        "print(f'test.shape : {X_test.shape}')"
      ],
      "execution_count": 18,
      "outputs": [
        {
          "output_type": "stream",
          "text": [
            "train.shape : (28709, 48, 48, 1)\n",
            "validation.shape : (3589, 48, 48, 1)\n",
            "test.shape : (3589, 48, 48, 1)\n"
          ],
          "name": "stdout"
        }
      ]
    },
    {
      "cell_type": "code",
      "metadata": {
        "id": "Z0L64eIiq2Lg",
        "colab_type": "code",
        "outputId": "fa713b38-8f75-41ec-bbf8-935f59d64f88",
        "colab": {
          "base_uri": "https://localhost:8080/",
          "height": 87
        }
      },
      "source": [
        "from keras.utils import np_utils\n",
        "\n",
        "y_train = np_utils.to_categorical(data[data.Usage =='Training'].emotion , 7)\n",
        "y_val = np_utils.to_categorical(data[data.Usage =='PublicTest'].emotion, 7)\n",
        "y_test = np_utils.to_categorical(data[data.Usage =='PrivateTest'].emotion, 7)\n",
        "\n",
        "print(f'train.shape : {y_train.shape}')\n",
        "print(f'validation.shape : {y_val.shape}')\n",
        "print(f'test.shape : {y_test.shape}')\n"
      ],
      "execution_count": 21,
      "outputs": [
        {
          "output_type": "stream",
          "text": [
            "Using TensorFlow backend.\n"
          ],
          "name": "stderr"
        },
        {
          "output_type": "stream",
          "text": [
            "train.shape : (28709, 7)\n",
            "validation.shape : (3589, 7)\n",
            "test.shape : (3589, 7)\n"
          ],
          "name": "stdout"
        }
      ]
    },
    {
      "cell_type": "code",
      "metadata": {
        "id": "xFMNXPRPwMW8",
        "colab_type": "code",
        "colab": {}
      },
      "source": [
        "import tensorflow as tf\n",
        "from tensorflow.keras.models import Model\n",
        "from tensorflow.keras import layers\n",
        "from tensorflow.keras import Sequential\n"
      ],
      "execution_count": 0,
      "outputs": []
    },
    {
      "cell_type": "code",
      "metadata": {
        "id": "8eMM7X51wMcF",
        "colab_type": "code",
        "colab": {}
      },
      "source": [
        "def fer2013(input_shape = (48,48,1), classes = 7):\n",
        "  \n",
        "  # Image shape 48,48\n",
        "  input_layer = layers.Input(shape=input_shape, name  = 'Input')\n",
        "  grp1_1 = layers.Conv2D(64, kernel_size=5, activation='relu', padding='SAME')(input_layer)\n",
        "  grp1_1 = layers.BatchNormalization()(grp1_1)\n",
        "  grp1_2 = layers.Conv2D(64, kernel_size=5, activation='relu', padding='SAME')(grp1_1)\n",
        "  grp1_2 = layers.BatchNormalization()(grp1_2)\n",
        "  grp1_3 = layers.MaxPool2D(pool_size = (2,2), )(grp1_2)\n",
        "  grp1_4 = layers.Dropout(0.3)(grp1_3)\n",
        "\n",
        "  # Image shape 24,24\n",
        "  grp2_1 = layers.Conv2D(128, kernel_size=5, activation='relu', padding='SAME')(grp1_4)\n",
        "  grp2_1 = layers.BatchNormalization()(grp2_1)\n",
        "  grp2_2 = layers.Conv2D(128, kernel_size=5, activation='relu', padding='SAME')(grp2_1)\n",
        "  grp2_2 = layers.BatchNormalization()(grp2_2)\n",
        "  grp2_3 = layers.MaxPool2D(pool_size = (2,2), )(grp2_2)\n",
        "  grp2_4 = layers.Dropout(0.3)(grp2_3)\n",
        "  \n",
        "  # Image shape 12,12\n",
        "  grp3_1 = layers.Conv2D(256, kernel_size=5, activation='relu', padding='SAME')(grp2_4)\n",
        "  grp3_1 = layers.BatchNormalization()(grp3_1)\n",
        "  grp3_2 = layers.Conv2D(256, kernel_size=5, activation='relu', padding='SAME')(grp3_1)\n",
        "  grp3_2 = layers.BatchNormalization()(grp3_2)\n",
        "  grp3_3 = layers.MaxPool2D(pool_size = (2,2), )(grp3_2)\n",
        "  grp3_4 = layers.Dropout(0.3)(grp3_3)\n",
        "\n",
        "  # Image shape 6,6\n",
        "  grp4_1 = layers.Flatten()(grp3_4)\n",
        "  grp4_2 = layers.Dense(units = 128, activation = 'relu', input_dim = 6*6*256)(grp4_1)\n",
        "  grp4_2 = layers.BatchNormalization()(grp4_2)\n",
        "  grp4_3 = layers.Dropout(0.25)(grp4_2)\n",
        "\n",
        "  output_layer = layers.Dense(units = classes, activation = 'softmax', name = 'output')(grp4_3)\n",
        "\n",
        "  model = Model(inputs = input_layer, outputs = output_layer )\n",
        "  print(model.summary())\n",
        "  return model\n",
        "\n"
      ],
      "execution_count": 0,
      "outputs": []
    },
    {
      "cell_type": "code",
      "metadata": {
        "id": "DTiQnrXyq2Po",
        "colab_type": "code",
        "colab": {
          "base_uri": "https://localhost:8080/",
          "height": 1000
        },
        "outputId": "8a5820cd-3097-4989-be3a-07b4ea49a325"
      },
      "source": [
        "epochs = 250\n",
        "batch_size = 64\n",
        "\n",
        "model = fer2013(input_shape=(48,48,1), classes = 7 )\n",
        "model.compile( optimizer = 'adam',loss = 'categorical_crossentropy', metrics= ['accuracy'])\n"
      ],
      "execution_count": 24,
      "outputs": [
        {
          "output_type": "stream",
          "text": [
            "Model: \"model\"\n",
            "_________________________________________________________________\n",
            "Layer (type)                 Output Shape              Param #   \n",
            "=================================================================\n",
            "Input (InputLayer)           [(None, 48, 48, 1)]       0         \n",
            "_________________________________________________________________\n",
            "conv2d (Conv2D)              (None, 48, 48, 64)        1664      \n",
            "_________________________________________________________________\n",
            "batch_normalization (BatchNo (None, 48, 48, 64)        256       \n",
            "_________________________________________________________________\n",
            "conv2d_1 (Conv2D)            (None, 48, 48, 64)        102464    \n",
            "_________________________________________________________________\n",
            "batch_normalization_1 (Batch (None, 48, 48, 64)        256       \n",
            "_________________________________________________________________\n",
            "max_pooling2d (MaxPooling2D) (None, 24, 24, 64)        0         \n",
            "_________________________________________________________________\n",
            "dropout (Dropout)            (None, 24, 24, 64)        0         \n",
            "_________________________________________________________________\n",
            "conv2d_2 (Conv2D)            (None, 24, 24, 128)       204928    \n",
            "_________________________________________________________________\n",
            "batch_normalization_2 (Batch (None, 24, 24, 128)       512       \n",
            "_________________________________________________________________\n",
            "conv2d_3 (Conv2D)            (None, 24, 24, 128)       409728    \n",
            "_________________________________________________________________\n",
            "batch_normalization_3 (Batch (None, 24, 24, 128)       512       \n",
            "_________________________________________________________________\n",
            "max_pooling2d_1 (MaxPooling2 (None, 12, 12, 128)       0         \n",
            "_________________________________________________________________\n",
            "dropout_1 (Dropout)          (None, 12, 12, 128)       0         \n",
            "_________________________________________________________________\n",
            "conv2d_4 (Conv2D)            (None, 12, 12, 256)       819456    \n",
            "_________________________________________________________________\n",
            "batch_normalization_4 (Batch (None, 12, 12, 256)       1024      \n",
            "_________________________________________________________________\n",
            "conv2d_5 (Conv2D)            (None, 12, 12, 256)       1638656   \n",
            "_________________________________________________________________\n",
            "batch_normalization_5 (Batch (None, 12, 12, 256)       1024      \n",
            "_________________________________________________________________\n",
            "max_pooling2d_2 (MaxPooling2 (None, 6, 6, 256)         0         \n",
            "_________________________________________________________________\n",
            "dropout_2 (Dropout)          (None, 6, 6, 256)         0         \n",
            "_________________________________________________________________\n",
            "flatten (Flatten)            (None, 9216)              0         \n",
            "_________________________________________________________________\n",
            "dense (Dense)                (None, 128)               1179776   \n",
            "_________________________________________________________________\n",
            "batch_normalization_6 (Batch (None, 128)               512       \n",
            "_________________________________________________________________\n",
            "dropout_3 (Dropout)          (None, 128)               0         \n",
            "_________________________________________________________________\n",
            "output (Dense)               (None, 7)                 903       \n",
            "=================================================================\n",
            "Total params: 4,361,671\n",
            "Trainable params: 4,359,623\n",
            "Non-trainable params: 2,048\n",
            "_________________________________________________________________\n",
            "None\n"
          ],
          "name": "stdout"
        }
      ]
    },
    {
      "cell_type": "code",
      "metadata": {
        "id": "F5PbDFp7jr54",
        "colab_type": "code",
        "colab": {}
      },
      "source": [
        "from tensorflow.keras.preprocessing.image import ImageDataGenerator\n",
        "\n",
        "datagen= ImageDataGenerator(rescale = 1./255, rotation_range= 20, horizontal_flip = True, height_shift_range = 0.1,width_shift_range = 0.1)\n",
        "datagen.fit(X_train)\n",
        "\n",
        "testgen= ImageDataGenerator(rescale = 1./255)"
      ],
      "execution_count": 0,
      "outputs": []
    },
    {
      "cell_type": "code",
      "metadata": {
        "id": "gOf6Qnlojr2_",
        "colab_type": "code",
        "colab": {}
      },
      "source": [
        "train_flow = datagen.flow(X_train, y_train, batch_size = batch_size)\n",
        "val_flow = testgen.flow(X_val, y_val, batch_size = batch_size)\n",
        "test_flow = testgen.flow(X_test, y_test, batch_size = batch_size)"
      ],
      "execution_count": 0,
      "outputs": []
    },
    {
      "cell_type": "code",
      "metadata": {
        "id": "05ve_lE6jr0l",
        "colab_type": "code",
        "colab": {
          "base_uri": "https://localhost:8080/",
          "height": 1000
        },
        "outputId": "9fe3887d-342e-49fe-89a5-8fb07c769cc1"
      },
      "source": [
        "history = model.fit(train_flow, steps_per_epoch= len(X_train)/batch_size, epochs = epochs, validation_data = val_flow, validation_steps= len(X_val)/batch_size )"
      ],
      "execution_count": 27,
      "outputs": [
        {
          "output_type": "stream",
          "text": [
            "Epoch 1/250\n",
            "449/448 [==============================] - 22s 49ms/step - loss: 1.8833 - accuracy: 0.2900 - val_loss: 1.7963 - val_accuracy: 0.3318\n",
            "Epoch 2/250\n",
            "449/448 [==============================] - 21s 47ms/step - loss: 1.5326 - accuracy: 0.4130 - val_loss: 1.8370 - val_accuracy: 0.3578\n",
            "Epoch 3/250\n",
            "449/448 [==============================] - 21s 47ms/step - loss: 1.3406 - accuracy: 0.4888 - val_loss: 1.3249 - val_accuracy: 0.4990\n",
            "Epoch 4/250\n",
            "449/448 [==============================] - 22s 48ms/step - loss: 1.2329 - accuracy: 0.5315 - val_loss: 1.1793 - val_accuracy: 0.5531\n",
            "Epoch 5/250\n",
            "449/448 [==============================] - 22s 49ms/step - loss: 1.1696 - accuracy: 0.5569 - val_loss: 1.2489 - val_accuracy: 0.5208\n",
            "Epoch 6/250\n",
            "449/448 [==============================] - 22s 48ms/step - loss: 1.1197 - accuracy: 0.5750 - val_loss: 1.1615 - val_accuracy: 0.5626\n",
            "Epoch 7/250\n",
            "449/448 [==============================] - 22s 48ms/step - loss: 1.0862 - accuracy: 0.5908 - val_loss: 1.1206 - val_accuracy: 0.5854\n",
            "Epoch 8/250\n",
            "449/448 [==============================] - 22s 48ms/step - loss: 1.0562 - accuracy: 0.6034 - val_loss: 1.1019 - val_accuracy: 0.5935\n",
            "Epoch 9/250\n",
            "449/448 [==============================] - 22s 48ms/step - loss: 1.0343 - accuracy: 0.6113 - val_loss: 1.1070 - val_accuracy: 0.5949\n",
            "Epoch 10/250\n",
            "449/448 [==============================] - 22s 48ms/step - loss: 1.0101 - accuracy: 0.6217 - val_loss: 1.0314 - val_accuracy: 0.6144\n",
            "Epoch 11/250\n",
            "449/448 [==============================] - 22s 48ms/step - loss: 0.9876 - accuracy: 0.6299 - val_loss: 1.0282 - val_accuracy: 0.6202\n",
            "Epoch 12/250\n",
            "449/448 [==============================] - 22s 48ms/step - loss: 0.9676 - accuracy: 0.6384 - val_loss: 1.0634 - val_accuracy: 0.6133\n",
            "Epoch 13/250\n",
            "449/448 [==============================] - 22s 48ms/step - loss: 0.9520 - accuracy: 0.6436 - val_loss: 0.9915 - val_accuracy: 0.6339\n",
            "Epoch 14/250\n",
            "449/448 [==============================] - 22s 48ms/step - loss: 0.9389 - accuracy: 0.6510 - val_loss: 1.0138 - val_accuracy: 0.6261\n",
            "Epoch 15/250\n",
            "449/448 [==============================] - 22s 48ms/step - loss: 0.9146 - accuracy: 0.6583 - val_loss: 0.9969 - val_accuracy: 0.6289\n",
            "Epoch 16/250\n",
            "449/448 [==============================] - 22s 48ms/step - loss: 0.8978 - accuracy: 0.6652 - val_loss: 0.9894 - val_accuracy: 0.6319\n",
            "Epoch 17/250\n",
            "449/448 [==============================] - 22s 48ms/step - loss: 0.8861 - accuracy: 0.6736 - val_loss: 1.0179 - val_accuracy: 0.6303\n",
            "Epoch 18/250\n",
            "449/448 [==============================] - 22s 48ms/step - loss: 0.8671 - accuracy: 0.6758 - val_loss: 0.9625 - val_accuracy: 0.6514\n",
            "Epoch 19/250\n",
            "449/448 [==============================] - 22s 48ms/step - loss: 0.8485 - accuracy: 0.6842 - val_loss: 1.0312 - val_accuracy: 0.6211\n",
            "Epoch 20/250\n",
            "449/448 [==============================] - 22s 48ms/step - loss: 0.8373 - accuracy: 0.6854 - val_loss: 0.9617 - val_accuracy: 0.6581\n",
            "Epoch 21/250\n",
            "449/448 [==============================] - 22s 48ms/step - loss: 0.8313 - accuracy: 0.6904 - val_loss: 0.9959 - val_accuracy: 0.6523\n",
            "Epoch 22/250\n",
            "449/448 [==============================] - 22s 48ms/step - loss: 0.8129 - accuracy: 0.6972 - val_loss: 0.9967 - val_accuracy: 0.6392\n",
            "Epoch 23/250\n",
            "449/448 [==============================] - 22s 48ms/step - loss: 0.8011 - accuracy: 0.7041 - val_loss: 0.9753 - val_accuracy: 0.6576\n",
            "Epoch 24/250\n",
            "449/448 [==============================] - 22s 48ms/step - loss: 0.7903 - accuracy: 0.7062 - val_loss: 1.0125 - val_accuracy: 0.6512\n",
            "Epoch 25/250\n",
            "449/448 [==============================] - 22s 48ms/step - loss: 0.7779 - accuracy: 0.7109 - val_loss: 0.9893 - val_accuracy: 0.6528\n",
            "Epoch 26/250\n",
            "449/448 [==============================] - 22s 48ms/step - loss: 0.7693 - accuracy: 0.7133 - val_loss: 1.0055 - val_accuracy: 0.6525\n",
            "Epoch 27/250\n",
            "449/448 [==============================] - 22s 48ms/step - loss: 0.7529 - accuracy: 0.7216 - val_loss: 0.9765 - val_accuracy: 0.6587\n",
            "Epoch 28/250\n",
            "449/448 [==============================] - 22s 48ms/step - loss: 0.7430 - accuracy: 0.7255 - val_loss: 1.0090 - val_accuracy: 0.6551\n",
            "Epoch 29/250\n",
            "449/448 [==============================] - 22s 48ms/step - loss: 0.7252 - accuracy: 0.7316 - val_loss: 0.9940 - val_accuracy: 0.6551\n",
            "Epoch 30/250\n",
            "449/448 [==============================] - 22s 48ms/step - loss: 0.7212 - accuracy: 0.7324 - val_loss: 1.0093 - val_accuracy: 0.6676\n",
            "Epoch 31/250\n",
            "449/448 [==============================] - 22s 48ms/step - loss: 0.7139 - accuracy: 0.7361 - val_loss: 1.0110 - val_accuracy: 0.6668\n",
            "Epoch 32/250\n",
            "449/448 [==============================] - 22s 48ms/step - loss: 0.6921 - accuracy: 0.7431 - val_loss: 1.0255 - val_accuracy: 0.6531\n",
            "Epoch 33/250\n",
            "449/448 [==============================] - 22s 48ms/step - loss: 0.6938 - accuracy: 0.7423 - val_loss: 1.0243 - val_accuracy: 0.6525\n",
            "Epoch 34/250\n",
            "449/448 [==============================] - 22s 48ms/step - loss: 0.6821 - accuracy: 0.7476 - val_loss: 1.0080 - val_accuracy: 0.6687\n",
            "Epoch 35/250\n",
            "449/448 [==============================] - 22s 48ms/step - loss: 0.6744 - accuracy: 0.7501 - val_loss: 1.0114 - val_accuracy: 0.6659\n",
            "Epoch 36/250\n",
            "449/448 [==============================] - 22s 48ms/step - loss: 0.6624 - accuracy: 0.7555 - val_loss: 1.0201 - val_accuracy: 0.6629\n",
            "Epoch 37/250\n",
            "449/448 [==============================] - 22s 48ms/step - loss: 0.6537 - accuracy: 0.7590 - val_loss: 0.9956 - val_accuracy: 0.6732\n",
            "Epoch 38/250\n",
            "449/448 [==============================] - 22s 48ms/step - loss: 0.6441 - accuracy: 0.7624 - val_loss: 1.0149 - val_accuracy: 0.6637\n",
            "Epoch 39/250\n",
            "449/448 [==============================] - 22s 48ms/step - loss: 0.6336 - accuracy: 0.7630 - val_loss: 0.9675 - val_accuracy: 0.6826\n",
            "Epoch 40/250\n",
            "449/448 [==============================] - 22s 48ms/step - loss: 0.6263 - accuracy: 0.7687 - val_loss: 1.1110 - val_accuracy: 0.6581\n",
            "Epoch 41/250\n",
            "449/448 [==============================] - 22s 49ms/step - loss: 0.6160 - accuracy: 0.7738 - val_loss: 1.0369 - val_accuracy: 0.6804\n",
            "Epoch 42/250\n",
            "449/448 [==============================] - 22s 48ms/step - loss: 0.6134 - accuracy: 0.7731 - val_loss: 1.1009 - val_accuracy: 0.6512\n",
            "Epoch 43/250\n",
            "449/448 [==============================] - 22s 48ms/step - loss: 0.6024 - accuracy: 0.7774 - val_loss: 1.0865 - val_accuracy: 0.6723\n",
            "Epoch 44/250\n",
            "449/448 [==============================] - 22s 48ms/step - loss: 0.5959 - accuracy: 0.7791 - val_loss: 1.0814 - val_accuracy: 0.6773\n",
            "Epoch 45/250\n",
            "449/448 [==============================] - 22s 48ms/step - loss: 0.5898 - accuracy: 0.7821 - val_loss: 1.0520 - val_accuracy: 0.6773\n",
            "Epoch 46/250\n",
            "449/448 [==============================] - 22s 49ms/step - loss: 0.5876 - accuracy: 0.7848 - val_loss: 1.0900 - val_accuracy: 0.6637\n",
            "Epoch 47/250\n",
            "449/448 [==============================] - 22s 48ms/step - loss: 0.5739 - accuracy: 0.7879 - val_loss: 1.1203 - val_accuracy: 0.6498\n",
            "Epoch 48/250\n",
            "449/448 [==============================] - 22s 48ms/step - loss: 0.5635 - accuracy: 0.7902 - val_loss: 1.1170 - val_accuracy: 0.6684\n",
            "Epoch 49/250\n",
            "449/448 [==============================] - 22s 48ms/step - loss: 0.5649 - accuracy: 0.7895 - val_loss: 1.1190 - val_accuracy: 0.6659\n",
            "Epoch 50/250\n",
            "449/448 [==============================] - 22s 48ms/step - loss: 0.5571 - accuracy: 0.7939 - val_loss: 1.1303 - val_accuracy: 0.6634\n",
            "Epoch 51/250\n",
            "449/448 [==============================] - 22s 48ms/step - loss: 0.5416 - accuracy: 0.7988 - val_loss: 1.0840 - val_accuracy: 0.6729\n",
            "Epoch 52/250\n",
            "449/448 [==============================] - 22s 48ms/step - loss: 0.5470 - accuracy: 0.8006 - val_loss: 1.1316 - val_accuracy: 0.6651\n",
            "Epoch 53/250\n",
            "449/448 [==============================] - 22s 48ms/step - loss: 0.5329 - accuracy: 0.8040 - val_loss: 1.1410 - val_accuracy: 0.6726\n",
            "Epoch 54/250\n",
            "449/448 [==============================] - 22s 48ms/step - loss: 0.5257 - accuracy: 0.8061 - val_loss: 1.1885 - val_accuracy: 0.6645\n",
            "Epoch 55/250\n",
            "449/448 [==============================] - 22s 48ms/step - loss: 0.5203 - accuracy: 0.8071 - val_loss: 1.1745 - val_accuracy: 0.6754\n",
            "Epoch 56/250\n",
            "449/448 [==============================] - 22s 48ms/step - loss: 0.5217 - accuracy: 0.8051 - val_loss: 1.1534 - val_accuracy: 0.6581\n",
            "Epoch 57/250\n",
            "449/448 [==============================] - 22s 48ms/step - loss: 0.5093 - accuracy: 0.8147 - val_loss: 1.1580 - val_accuracy: 0.6682\n",
            "Epoch 58/250\n",
            "449/448 [==============================] - 22s 48ms/step - loss: 0.5021 - accuracy: 0.8157 - val_loss: 1.2366 - val_accuracy: 0.6606\n",
            "Epoch 59/250\n",
            "449/448 [==============================] - 22s 48ms/step - loss: 0.5007 - accuracy: 0.8157 - val_loss: 1.1351 - val_accuracy: 0.6807\n",
            "Epoch 60/250\n",
            "449/448 [==============================] - 22s 48ms/step - loss: 0.5014 - accuracy: 0.8149 - val_loss: 1.1954 - val_accuracy: 0.6704\n",
            "Epoch 61/250\n",
            "449/448 [==============================] - 22s 48ms/step - loss: 0.4939 - accuracy: 0.8181 - val_loss: 1.1049 - val_accuracy: 0.6787\n",
            "Epoch 62/250\n",
            "449/448 [==============================] - 22s 48ms/step - loss: 0.4900 - accuracy: 0.8176 - val_loss: 1.1991 - val_accuracy: 0.6506\n",
            "Epoch 63/250\n",
            "449/448 [==============================] - 22s 48ms/step - loss: 0.4829 - accuracy: 0.8249 - val_loss: 1.2092 - val_accuracy: 0.6670\n",
            "Epoch 64/250\n",
            "449/448 [==============================] - 22s 48ms/step - loss: 0.4767 - accuracy: 0.8232 - val_loss: 1.1812 - val_accuracy: 0.6771\n",
            "Epoch 65/250\n",
            "449/448 [==============================] - 22s 48ms/step - loss: 0.4695 - accuracy: 0.8285 - val_loss: 1.1880 - val_accuracy: 0.6796\n",
            "Epoch 66/250\n",
            "449/448 [==============================] - 22s 48ms/step - loss: 0.4616 - accuracy: 0.8295 - val_loss: 1.1741 - val_accuracy: 0.6748\n",
            "Epoch 67/250\n",
            "449/448 [==============================] - 22s 48ms/step - loss: 0.4647 - accuracy: 0.8292 - val_loss: 1.1983 - val_accuracy: 0.6668\n",
            "Epoch 68/250\n",
            "449/448 [==============================] - 22s 48ms/step - loss: 0.4553 - accuracy: 0.8328 - val_loss: 1.1608 - val_accuracy: 0.6799\n",
            "Epoch 69/250\n",
            "449/448 [==============================] - 22s 48ms/step - loss: 0.4594 - accuracy: 0.8304 - val_loss: 1.2191 - val_accuracy: 0.6757\n",
            "Epoch 70/250\n",
            "449/448 [==============================] - 22s 48ms/step - loss: 0.4542 - accuracy: 0.8329 - val_loss: 1.2654 - val_accuracy: 0.6715\n",
            "Epoch 71/250\n",
            "449/448 [==============================] - 22s 48ms/step - loss: 0.4446 - accuracy: 0.8378 - val_loss: 1.2478 - val_accuracy: 0.6670\n",
            "Epoch 72/250\n",
            "449/448 [==============================] - 22s 48ms/step - loss: 0.4347 - accuracy: 0.8394 - val_loss: 1.2235 - val_accuracy: 0.6787\n",
            "Epoch 73/250\n",
            "449/448 [==============================] - 22s 48ms/step - loss: 0.4332 - accuracy: 0.8405 - val_loss: 1.2717 - val_accuracy: 0.6718\n",
            "Epoch 74/250\n",
            "449/448 [==============================] - 22s 48ms/step - loss: 0.4252 - accuracy: 0.8425 - val_loss: 1.2314 - val_accuracy: 0.6790\n",
            "Epoch 75/250\n",
            "449/448 [==============================] - 22s 48ms/step - loss: 0.4341 - accuracy: 0.8415 - val_loss: 1.2549 - val_accuracy: 0.6751\n",
            "Epoch 76/250\n",
            "449/448 [==============================] - 22s 48ms/step - loss: 0.4214 - accuracy: 0.8454 - val_loss: 1.2750 - val_accuracy: 0.6790\n",
            "Epoch 77/250\n",
            "449/448 [==============================] - 22s 48ms/step - loss: 0.4196 - accuracy: 0.8454 - val_loss: 1.2856 - val_accuracy: 0.6757\n",
            "Epoch 78/250\n",
            "449/448 [==============================] - 22s 48ms/step - loss: 0.4163 - accuracy: 0.8468 - val_loss: 1.2784 - val_accuracy: 0.6707\n",
            "Epoch 79/250\n",
            "449/448 [==============================] - 22s 48ms/step - loss: 0.4097 - accuracy: 0.8505 - val_loss: 1.2783 - val_accuracy: 0.6810\n",
            "Epoch 80/250\n",
            "449/448 [==============================] - 22s 48ms/step - loss: 0.4052 - accuracy: 0.8517 - val_loss: 1.2741 - val_accuracy: 0.6701\n",
            "Epoch 81/250\n",
            "449/448 [==============================] - 22s 48ms/step - loss: 0.4062 - accuracy: 0.8521 - val_loss: 1.3203 - val_accuracy: 0.6676\n",
            "Epoch 82/250\n",
            "449/448 [==============================] - 22s 48ms/step - loss: 0.4003 - accuracy: 0.8528 - val_loss: 1.3286 - val_accuracy: 0.6732\n",
            "Epoch 83/250\n",
            "449/448 [==============================] - 22s 48ms/step - loss: 0.4014 - accuracy: 0.8528 - val_loss: 1.3217 - val_accuracy: 0.6801\n",
            "Epoch 84/250\n",
            "449/448 [==============================] - 22s 48ms/step - loss: 0.4004 - accuracy: 0.8528 - val_loss: 1.2985 - val_accuracy: 0.6785\n",
            "Epoch 85/250\n",
            "449/448 [==============================] - 22s 48ms/step - loss: 0.3821 - accuracy: 0.8584 - val_loss: 1.3541 - val_accuracy: 0.6707\n",
            "Epoch 86/250\n",
            "449/448 [==============================] - 22s 48ms/step - loss: 0.3900 - accuracy: 0.8546 - val_loss: 1.3114 - val_accuracy: 0.6726\n",
            "Epoch 87/250\n",
            "449/448 [==============================] - 22s 48ms/step - loss: 0.3852 - accuracy: 0.8605 - val_loss: 1.2728 - val_accuracy: 0.6807\n",
            "Epoch 88/250\n",
            "449/448 [==============================] - 22s 48ms/step - loss: 0.3826 - accuracy: 0.8596 - val_loss: 1.3223 - val_accuracy: 0.6740\n",
            "Epoch 89/250\n",
            "449/448 [==============================] - 22s 48ms/step - loss: 0.3756 - accuracy: 0.8634 - val_loss: 1.3402 - val_accuracy: 0.6648\n",
            "Epoch 90/250\n",
            "449/448 [==============================] - 22s 48ms/step - loss: 0.3749 - accuracy: 0.8628 - val_loss: 1.3553 - val_accuracy: 0.6687\n",
            "Epoch 91/250\n",
            "449/448 [==============================] - 22s 48ms/step - loss: 0.3794 - accuracy: 0.8616 - val_loss: 1.3278 - val_accuracy: 0.6718\n",
            "Epoch 92/250\n",
            "449/448 [==============================] - 22s 48ms/step - loss: 0.3742 - accuracy: 0.8656 - val_loss: 1.2849 - val_accuracy: 0.6718\n",
            "Epoch 93/250\n",
            "449/448 [==============================] - 22s 48ms/step - loss: 0.3677 - accuracy: 0.8662 - val_loss: 1.2589 - val_accuracy: 0.6807\n",
            "Epoch 94/250\n",
            "449/448 [==============================] - 22s 48ms/step - loss: 0.3659 - accuracy: 0.8668 - val_loss: 1.3578 - val_accuracy: 0.6765\n",
            "Epoch 95/250\n",
            "449/448 [==============================] - 22s 48ms/step - loss: 0.3593 - accuracy: 0.8694 - val_loss: 1.3074 - val_accuracy: 0.6863\n",
            "Epoch 96/250\n",
            "449/448 [==============================] - 22s 48ms/step - loss: 0.3664 - accuracy: 0.8640 - val_loss: 1.3647 - val_accuracy: 0.6707\n",
            "Epoch 97/250\n",
            "449/448 [==============================] - 22s 48ms/step - loss: 0.3591 - accuracy: 0.8689 - val_loss: 1.3774 - val_accuracy: 0.6779\n",
            "Epoch 98/250\n",
            "449/448 [==============================] - 22s 48ms/step - loss: 0.3516 - accuracy: 0.8722 - val_loss: 1.3860 - val_accuracy: 0.6707\n",
            "Epoch 99/250\n",
            "449/448 [==============================] - 22s 48ms/step - loss: 0.3449 - accuracy: 0.8753 - val_loss: 1.3450 - val_accuracy: 0.6801\n",
            "Epoch 100/250\n",
            "449/448 [==============================] - 22s 48ms/step - loss: 0.3452 - accuracy: 0.8749 - val_loss: 1.3867 - val_accuracy: 0.6654\n",
            "Epoch 101/250\n",
            "449/448 [==============================] - 22s 48ms/step - loss: 0.3439 - accuracy: 0.8751 - val_loss: 1.3915 - val_accuracy: 0.6732\n",
            "Epoch 102/250\n",
            "449/448 [==============================] - 22s 48ms/step - loss: 0.3485 - accuracy: 0.8724 - val_loss: 1.3591 - val_accuracy: 0.6913\n",
            "Epoch 103/250\n",
            "449/448 [==============================] - 22s 48ms/step - loss: 0.3324 - accuracy: 0.8783 - val_loss: 1.5239 - val_accuracy: 0.6670\n",
            "Epoch 104/250\n",
            "449/448 [==============================] - 22s 48ms/step - loss: 0.3323 - accuracy: 0.8776 - val_loss: 1.3685 - val_accuracy: 0.6734\n",
            "Epoch 105/250\n",
            "449/448 [==============================] - 22s 48ms/step - loss: 0.3318 - accuracy: 0.8794 - val_loss: 1.4130 - val_accuracy: 0.6826\n",
            "Epoch 106/250\n",
            "449/448 [==============================] - 22s 48ms/step - loss: 0.3270 - accuracy: 0.8811 - val_loss: 1.3937 - val_accuracy: 0.6835\n",
            "Epoch 107/250\n",
            "449/448 [==============================] - 22s 48ms/step - loss: 0.3329 - accuracy: 0.8803 - val_loss: 1.3674 - val_accuracy: 0.6760\n",
            "Epoch 108/250\n",
            "449/448 [==============================] - 22s 48ms/step - loss: 0.3265 - accuracy: 0.8829 - val_loss: 1.4393 - val_accuracy: 0.6707\n",
            "Epoch 109/250\n",
            "449/448 [==============================] - 22s 48ms/step - loss: 0.3268 - accuracy: 0.8818 - val_loss: 1.4221 - val_accuracy: 0.6751\n",
            "Epoch 110/250\n",
            "449/448 [==============================] - 22s 48ms/step - loss: 0.3202 - accuracy: 0.8820 - val_loss: 1.3995 - val_accuracy: 0.6760\n",
            "Epoch 111/250\n",
            "449/448 [==============================] - 22s 48ms/step - loss: 0.3186 - accuracy: 0.8859 - val_loss: 1.4528 - val_accuracy: 0.6740\n",
            "Epoch 112/250\n",
            "449/448 [==============================] - 22s 48ms/step - loss: 0.3251 - accuracy: 0.8793 - val_loss: 1.4200 - val_accuracy: 0.6765\n",
            "Epoch 113/250\n",
            "449/448 [==============================] - 22s 48ms/step - loss: 0.3222 - accuracy: 0.8828 - val_loss: 1.4320 - val_accuracy: 0.6757\n",
            "Epoch 114/250\n",
            "449/448 [==============================] - 22s 48ms/step - loss: 0.3097 - accuracy: 0.8870 - val_loss: 1.4594 - val_accuracy: 0.6687\n",
            "Epoch 115/250\n",
            "449/448 [==============================] - 22s 48ms/step - loss: 0.3122 - accuracy: 0.8860 - val_loss: 1.4087 - val_accuracy: 0.6740\n",
            "Epoch 116/250\n",
            "449/448 [==============================] - 22s 48ms/step - loss: 0.3129 - accuracy: 0.8868 - val_loss: 1.4766 - val_accuracy: 0.6779\n",
            "Epoch 117/250\n",
            "449/448 [==============================] - 22s 48ms/step - loss: 0.3104 - accuracy: 0.8880 - val_loss: 1.4251 - val_accuracy: 0.6801\n",
            "Epoch 118/250\n",
            "449/448 [==============================] - 22s 48ms/step - loss: 0.2954 - accuracy: 0.8924 - val_loss: 1.4176 - val_accuracy: 0.6838\n",
            "Epoch 119/250\n",
            "449/448 [==============================] - 22s 48ms/step - loss: 0.3020 - accuracy: 0.8915 - val_loss: 1.4015 - val_accuracy: 0.6712\n",
            "Epoch 120/250\n",
            "449/448 [==============================] - 22s 48ms/step - loss: 0.3056 - accuracy: 0.8895 - val_loss: 1.4275 - val_accuracy: 0.6623\n",
            "Epoch 121/250\n",
            "449/448 [==============================] - 22s 48ms/step - loss: 0.2962 - accuracy: 0.8908 - val_loss: 1.3886 - val_accuracy: 0.6851\n",
            "Epoch 122/250\n",
            "449/448 [==============================] - 22s 48ms/step - loss: 0.2908 - accuracy: 0.8941 - val_loss: 1.4654 - val_accuracy: 0.6810\n",
            "Epoch 123/250\n",
            "449/448 [==============================] - 22s 48ms/step - loss: 0.3022 - accuracy: 0.8892 - val_loss: 1.4262 - val_accuracy: 0.6729\n",
            "Epoch 124/250\n",
            "449/448 [==============================] - 22s 48ms/step - loss: 0.2988 - accuracy: 0.8902 - val_loss: 1.4319 - val_accuracy: 0.6815\n",
            "Epoch 125/250\n",
            "449/448 [==============================] - 22s 48ms/step - loss: 0.2885 - accuracy: 0.8955 - val_loss: 1.4540 - val_accuracy: 0.6782\n",
            "Epoch 126/250\n",
            "449/448 [==============================] - 22s 48ms/step - loss: 0.2923 - accuracy: 0.8926 - val_loss: 1.4968 - val_accuracy: 0.6715\n",
            "Epoch 127/250\n",
            "449/448 [==============================] - 22s 48ms/step - loss: 0.2902 - accuracy: 0.8936 - val_loss: 1.4911 - val_accuracy: 0.6690\n",
            "Epoch 128/250\n",
            "449/448 [==============================] - 22s 48ms/step - loss: 0.2899 - accuracy: 0.8940 - val_loss: 1.4746 - val_accuracy: 0.6721\n",
            "Epoch 129/250\n",
            "449/448 [==============================] - 22s 48ms/step - loss: 0.2840 - accuracy: 0.8966 - val_loss: 1.4875 - val_accuracy: 0.6707\n",
            "Epoch 130/250\n",
            "449/448 [==============================] - 22s 48ms/step - loss: 0.2797 - accuracy: 0.9001 - val_loss: 1.5563 - val_accuracy: 0.6659\n",
            "Epoch 131/250\n",
            "449/448 [==============================] - 22s 48ms/step - loss: 0.2864 - accuracy: 0.8952 - val_loss: 1.5617 - val_accuracy: 0.6687\n",
            "Epoch 132/250\n",
            "449/448 [==============================] - 22s 48ms/step - loss: 0.2886 - accuracy: 0.8961 - val_loss: 1.5319 - val_accuracy: 0.6740\n",
            "Epoch 133/250\n",
            "449/448 [==============================] - 22s 48ms/step - loss: 0.2867 - accuracy: 0.8963 - val_loss: 1.5151 - val_accuracy: 0.6723\n",
            "Epoch 134/250\n",
            "449/448 [==============================] - 22s 48ms/step - loss: 0.2778 - accuracy: 0.9005 - val_loss: 1.4715 - val_accuracy: 0.6779\n",
            "Epoch 135/250\n",
            "449/448 [==============================] - 22s 48ms/step - loss: 0.2710 - accuracy: 0.9019 - val_loss: 1.5174 - val_accuracy: 0.6793\n",
            "Epoch 136/250\n",
            "449/448 [==============================] - 22s 48ms/step - loss: 0.2744 - accuracy: 0.9001 - val_loss: 1.4862 - val_accuracy: 0.6790\n",
            "Epoch 137/250\n",
            "449/448 [==============================] - 22s 48ms/step - loss: 0.2757 - accuracy: 0.9010 - val_loss: 1.5174 - val_accuracy: 0.6737\n",
            "Epoch 138/250\n",
            "449/448 [==============================] - 22s 48ms/step - loss: 0.2638 - accuracy: 0.9057 - val_loss: 1.5278 - val_accuracy: 0.6676\n",
            "Epoch 139/250\n",
            "449/448 [==============================] - 22s 48ms/step - loss: 0.2670 - accuracy: 0.9011 - val_loss: 1.5706 - val_accuracy: 0.6682\n",
            "Epoch 140/250\n",
            "449/448 [==============================] - 22s 48ms/step - loss: 0.2667 - accuracy: 0.9037 - val_loss: 1.5666 - val_accuracy: 0.6826\n",
            "Epoch 141/250\n",
            "449/448 [==============================] - 22s 48ms/step - loss: 0.2677 - accuracy: 0.9032 - val_loss: 1.6119 - val_accuracy: 0.6826\n",
            "Epoch 142/250\n",
            "449/448 [==============================] - 22s 48ms/step - loss: 0.2658 - accuracy: 0.9038 - val_loss: 1.4968 - val_accuracy: 0.6796\n",
            "Epoch 143/250\n",
            "449/448 [==============================] - 22s 48ms/step - loss: 0.2631 - accuracy: 0.9045 - val_loss: 1.5014 - val_accuracy: 0.6851\n",
            "Epoch 144/250\n",
            "449/448 [==============================] - 22s 48ms/step - loss: 0.2689 - accuracy: 0.9022 - val_loss: 1.5544 - val_accuracy: 0.6793\n",
            "Epoch 145/250\n",
            "449/448 [==============================] - 22s 48ms/step - loss: 0.2686 - accuracy: 0.9018 - val_loss: 1.5287 - val_accuracy: 0.6810\n",
            "Epoch 146/250\n",
            "449/448 [==============================] - 22s 48ms/step - loss: 0.2636 - accuracy: 0.9045 - val_loss: 1.5463 - val_accuracy: 0.6801\n",
            "Epoch 147/250\n",
            "449/448 [==============================] - 22s 48ms/step - loss: 0.2627 - accuracy: 0.9048 - val_loss: 1.5013 - val_accuracy: 0.6757\n",
            "Epoch 148/250\n",
            "449/448 [==============================] - 22s 48ms/step - loss: 0.2523 - accuracy: 0.9090 - val_loss: 1.5820 - val_accuracy: 0.6776\n",
            "Epoch 149/250\n",
            "449/448 [==============================] - 22s 48ms/step - loss: 0.2594 - accuracy: 0.9063 - val_loss: 1.4638 - val_accuracy: 0.6824\n",
            "Epoch 150/250\n",
            "449/448 [==============================] - 22s 48ms/step - loss: 0.2552 - accuracy: 0.9069 - val_loss: 1.4996 - val_accuracy: 0.6801\n",
            "Epoch 151/250\n",
            "449/448 [==============================] - 22s 49ms/step - loss: 0.2527 - accuracy: 0.9092 - val_loss: 1.5095 - val_accuracy: 0.6721\n",
            "Epoch 152/250\n",
            "449/448 [==============================] - 22s 48ms/step - loss: 0.2491 - accuracy: 0.9095 - val_loss: 1.5843 - val_accuracy: 0.6793\n",
            "Epoch 153/250\n",
            "449/448 [==============================] - 22s 48ms/step - loss: 0.2534 - accuracy: 0.9094 - val_loss: 1.4868 - val_accuracy: 0.6885\n",
            "Epoch 154/250\n",
            "449/448 [==============================] - 22s 48ms/step - loss: 0.2569 - accuracy: 0.9065 - val_loss: 1.5287 - val_accuracy: 0.6871\n",
            "Epoch 155/250\n",
            "449/448 [==============================] - 22s 48ms/step - loss: 0.2463 - accuracy: 0.9101 - val_loss: 1.5791 - val_accuracy: 0.6793\n",
            "Epoch 156/250\n",
            "449/448 [==============================] - 22s 48ms/step - loss: 0.2551 - accuracy: 0.9077 - val_loss: 1.5709 - val_accuracy: 0.6787\n",
            "Epoch 157/250\n",
            "449/448 [==============================] - 22s 48ms/step - loss: 0.2443 - accuracy: 0.9116 - val_loss: 1.5923 - val_accuracy: 0.6785\n",
            "Epoch 158/250\n",
            "449/448 [==============================] - 22s 48ms/step - loss: 0.2466 - accuracy: 0.9101 - val_loss: 1.5900 - val_accuracy: 0.6799\n",
            "Epoch 159/250\n",
            "449/448 [==============================] - 22s 48ms/step - loss: 0.2471 - accuracy: 0.9121 - val_loss: 1.6061 - val_accuracy: 0.6709\n",
            "Epoch 160/250\n",
            "449/448 [==============================] - 22s 48ms/step - loss: 0.2417 - accuracy: 0.9117 - val_loss: 1.5318 - val_accuracy: 0.6757\n",
            "Epoch 161/250\n",
            "449/448 [==============================] - 22s 48ms/step - loss: 0.2419 - accuracy: 0.9121 - val_loss: 1.5955 - val_accuracy: 0.6826\n",
            "Epoch 162/250\n",
            "449/448 [==============================] - 22s 48ms/step - loss: 0.2404 - accuracy: 0.9127 - val_loss: 1.5970 - val_accuracy: 0.6829\n",
            "Epoch 163/250\n",
            "449/448 [==============================] - 22s 48ms/step - loss: 0.2442 - accuracy: 0.9102 - val_loss: 1.6363 - val_accuracy: 0.6734\n",
            "Epoch 164/250\n",
            "449/448 [==============================] - 22s 48ms/step - loss: 0.2342 - accuracy: 0.9158 - val_loss: 1.6081 - val_accuracy: 0.6829\n",
            "Epoch 165/250\n",
            "449/448 [==============================] - 22s 48ms/step - loss: 0.2367 - accuracy: 0.9134 - val_loss: 1.6738 - val_accuracy: 0.6785\n",
            "Epoch 166/250\n",
            "449/448 [==============================] - 22s 48ms/step - loss: 0.2445 - accuracy: 0.9108 - val_loss: 1.6967 - val_accuracy: 0.6737\n",
            "Epoch 167/250\n",
            "449/448 [==============================] - 22s 48ms/step - loss: 0.2412 - accuracy: 0.9106 - val_loss: 1.6081 - val_accuracy: 0.6874\n",
            "Epoch 168/250\n",
            "449/448 [==============================] - 22s 48ms/step - loss: 0.2314 - accuracy: 0.9134 - val_loss: 1.6732 - val_accuracy: 0.6748\n",
            "Epoch 169/250\n",
            "449/448 [==============================] - 22s 48ms/step - loss: 0.2291 - accuracy: 0.9170 - val_loss: 1.6116 - val_accuracy: 0.6824\n",
            "Epoch 170/250\n",
            "449/448 [==============================] - 22s 48ms/step - loss: 0.2331 - accuracy: 0.9143 - val_loss: 1.5771 - val_accuracy: 0.6824\n",
            "Epoch 171/250\n",
            "449/448 [==============================] - 22s 48ms/step - loss: 0.2362 - accuracy: 0.9148 - val_loss: 1.6563 - val_accuracy: 0.6715\n",
            "Epoch 172/250\n",
            "449/448 [==============================] - 22s 48ms/step - loss: 0.2347 - accuracy: 0.9141 - val_loss: 1.6296 - val_accuracy: 0.6796\n",
            "Epoch 173/250\n",
            "449/448 [==============================] - 22s 48ms/step - loss: 0.2267 - accuracy: 0.9182 - val_loss: 1.6290 - val_accuracy: 0.6773\n",
            "Epoch 174/250\n",
            "449/448 [==============================] - 22s 48ms/step - loss: 0.2310 - accuracy: 0.9165 - val_loss: 1.6256 - val_accuracy: 0.6799\n",
            "Epoch 175/250\n",
            "449/448 [==============================] - 22s 48ms/step - loss: 0.2244 - accuracy: 0.9194 - val_loss: 1.6628 - val_accuracy: 0.6826\n",
            "Epoch 176/250\n",
            "449/448 [==============================] - 22s 49ms/step - loss: 0.2318 - accuracy: 0.9173 - val_loss: 1.6169 - val_accuracy: 0.6840\n",
            "Epoch 177/250\n",
            "449/448 [==============================] - 22s 48ms/step - loss: 0.2205 - accuracy: 0.9192 - val_loss: 1.6554 - val_accuracy: 0.6787\n",
            "Epoch 178/250\n",
            "449/448 [==============================] - 22s 48ms/step - loss: 0.2251 - accuracy: 0.9171 - val_loss: 1.6474 - val_accuracy: 0.6824\n",
            "Epoch 179/250\n",
            "449/448 [==============================] - 22s 49ms/step - loss: 0.2178 - accuracy: 0.9209 - val_loss: 1.6480 - val_accuracy: 0.6801\n",
            "Epoch 180/250\n",
            "449/448 [==============================] - 22s 49ms/step - loss: 0.2240 - accuracy: 0.9179 - val_loss: 1.6829 - val_accuracy: 0.6799\n",
            "Epoch 181/250\n",
            "449/448 [==============================] - 22s 48ms/step - loss: 0.2302 - accuracy: 0.9181 - val_loss: 1.6887 - val_accuracy: 0.6799\n",
            "Epoch 182/250\n",
            "449/448 [==============================] - 22s 48ms/step - loss: 0.2202 - accuracy: 0.9194 - val_loss: 1.6121 - val_accuracy: 0.6773\n",
            "Epoch 183/250\n",
            "449/448 [==============================] - 22s 48ms/step - loss: 0.2123 - accuracy: 0.9238 - val_loss: 1.6141 - val_accuracy: 0.6857\n",
            "Epoch 184/250\n",
            "449/448 [==============================] - 22s 48ms/step - loss: 0.2223 - accuracy: 0.9206 - val_loss: 1.5961 - val_accuracy: 0.6849\n",
            "Epoch 185/250\n",
            "449/448 [==============================] - 22s 48ms/step - loss: 0.2170 - accuracy: 0.9232 - val_loss: 1.6675 - val_accuracy: 0.6773\n",
            "Epoch 186/250\n",
            "449/448 [==============================] - 22s 49ms/step - loss: 0.2138 - accuracy: 0.9238 - val_loss: 1.7275 - val_accuracy: 0.6732\n",
            "Epoch 187/250\n",
            "449/448 [==============================] - 22s 49ms/step - loss: 0.2199 - accuracy: 0.9205 - val_loss: 1.6889 - val_accuracy: 0.6762\n",
            "Epoch 188/250\n",
            "449/448 [==============================] - 22s 48ms/step - loss: 0.2156 - accuracy: 0.9229 - val_loss: 1.6636 - val_accuracy: 0.6807\n",
            "Epoch 189/250\n",
            "449/448 [==============================] - 22s 48ms/step - loss: 0.2100 - accuracy: 0.9237 - val_loss: 1.6785 - val_accuracy: 0.6854\n",
            "Epoch 190/250\n",
            "449/448 [==============================] - 22s 49ms/step - loss: 0.2142 - accuracy: 0.9228 - val_loss: 1.6991 - val_accuracy: 0.6754\n",
            "Epoch 191/250\n",
            "449/448 [==============================] - 22s 48ms/step - loss: 0.2079 - accuracy: 0.9250 - val_loss: 1.6380 - val_accuracy: 0.6776\n",
            "Epoch 192/250\n",
            "449/448 [==============================] - 22s 48ms/step - loss: 0.2067 - accuracy: 0.9261 - val_loss: 1.6970 - val_accuracy: 0.6790\n",
            "Epoch 193/250\n",
            "449/448 [==============================] - 22s 48ms/step - loss: 0.2083 - accuracy: 0.9246 - val_loss: 1.6558 - val_accuracy: 0.6746\n",
            "Epoch 194/250\n",
            "449/448 [==============================] - 22s 48ms/step - loss: 0.2129 - accuracy: 0.9226 - val_loss: 1.6845 - val_accuracy: 0.6824\n",
            "Epoch 195/250\n",
            "449/448 [==============================] - 22s 48ms/step - loss: 0.2073 - accuracy: 0.9259 - val_loss: 1.6445 - val_accuracy: 0.6734\n",
            "Epoch 196/250\n",
            "449/448 [==============================] - 22s 49ms/step - loss: 0.2122 - accuracy: 0.9246 - val_loss: 1.6544 - val_accuracy: 0.6812\n",
            "Epoch 197/250\n",
            "449/448 [==============================] - 22s 48ms/step - loss: 0.2060 - accuracy: 0.9267 - val_loss: 1.7127 - val_accuracy: 0.6782\n",
            "Epoch 198/250\n",
            "449/448 [==============================] - 22s 48ms/step - loss: 0.2077 - accuracy: 0.9248 - val_loss: 1.6602 - val_accuracy: 0.6821\n",
            "Epoch 199/250\n",
            "449/448 [==============================] - 22s 49ms/step - loss: 0.2013 - accuracy: 0.9277 - val_loss: 1.7137 - val_accuracy: 0.6751\n",
            "Epoch 200/250\n",
            "449/448 [==============================] - 22s 49ms/step - loss: 0.2097 - accuracy: 0.9243 - val_loss: 1.6805 - val_accuracy: 0.6751\n",
            "Epoch 201/250\n",
            "449/448 [==============================] - 22s 48ms/step - loss: 0.2024 - accuracy: 0.9265 - val_loss: 1.6506 - val_accuracy: 0.6863\n",
            "Epoch 202/250\n",
            "449/448 [==============================] - 22s 49ms/step - loss: 0.2011 - accuracy: 0.9265 - val_loss: 1.6358 - val_accuracy: 0.6840\n",
            "Epoch 203/250\n",
            "449/448 [==============================] - 22s 49ms/step - loss: 0.2018 - accuracy: 0.9261 - val_loss: 1.7426 - val_accuracy: 0.6718\n",
            "Epoch 204/250\n",
            "449/448 [==============================] - 22s 49ms/step - loss: 0.2019 - accuracy: 0.9273 - val_loss: 1.7173 - val_accuracy: 0.6737\n",
            "Epoch 205/250\n",
            "449/448 [==============================] - 22s 49ms/step - loss: 0.1989 - accuracy: 0.9279 - val_loss: 1.7989 - val_accuracy: 0.6762\n",
            "Epoch 206/250\n",
            "449/448 [==============================] - 22s 49ms/step - loss: 0.1973 - accuracy: 0.9305 - val_loss: 1.6991 - val_accuracy: 0.6810\n",
            "Epoch 207/250\n",
            "449/448 [==============================] - 22s 48ms/step - loss: 0.2002 - accuracy: 0.9285 - val_loss: 1.7223 - val_accuracy: 0.6746\n",
            "Epoch 208/250\n",
            "449/448 [==============================] - 22s 49ms/step - loss: 0.2019 - accuracy: 0.9287 - val_loss: 1.6989 - val_accuracy: 0.6785\n",
            "Epoch 209/250\n",
            "449/448 [==============================] - 22s 48ms/step - loss: 0.1975 - accuracy: 0.9285 - val_loss: 1.7071 - val_accuracy: 0.6815\n",
            "Epoch 210/250\n",
            "449/448 [==============================] - 22s 48ms/step - loss: 0.2048 - accuracy: 0.9258 - val_loss: 1.7286 - val_accuracy: 0.6824\n",
            "Epoch 211/250\n",
            "449/448 [==============================] - 22s 48ms/step - loss: 0.1876 - accuracy: 0.9337 - val_loss: 1.7346 - val_accuracy: 0.6751\n",
            "Epoch 212/250\n",
            "449/448 [==============================] - 22s 49ms/step - loss: 0.1967 - accuracy: 0.9290 - val_loss: 1.8071 - val_accuracy: 0.6773\n",
            "Epoch 213/250\n",
            "449/448 [==============================] - 22s 48ms/step - loss: 0.1948 - accuracy: 0.9310 - val_loss: 1.6681 - val_accuracy: 0.6843\n",
            "Epoch 214/250\n",
            "449/448 [==============================] - 22s 48ms/step - loss: 0.2029 - accuracy: 0.9283 - val_loss: 1.7719 - val_accuracy: 0.6793\n",
            "Epoch 215/250\n",
            "449/448 [==============================] - 22s 48ms/step - loss: 0.1924 - accuracy: 0.9306 - val_loss: 1.6959 - val_accuracy: 0.6793\n",
            "Epoch 216/250\n",
            "449/448 [==============================] - 22s 48ms/step - loss: 0.1912 - accuracy: 0.9306 - val_loss: 1.7386 - val_accuracy: 0.6721\n",
            "Epoch 217/250\n",
            "449/448 [==============================] - 22s 48ms/step - loss: 0.1915 - accuracy: 0.9302 - val_loss: 1.7607 - val_accuracy: 0.6790\n",
            "Epoch 218/250\n",
            "449/448 [==============================] - 22s 49ms/step - loss: 0.1933 - accuracy: 0.9314 - val_loss: 1.7449 - val_accuracy: 0.6863\n",
            "Epoch 219/250\n",
            "449/448 [==============================] - 22s 49ms/step - loss: 0.1957 - accuracy: 0.9305 - val_loss: 1.7537 - val_accuracy: 0.6679\n",
            "Epoch 220/250\n",
            "449/448 [==============================] - 22s 49ms/step - loss: 0.1917 - accuracy: 0.9300 - val_loss: 1.7014 - val_accuracy: 0.6718\n",
            "Epoch 221/250\n",
            "449/448 [==============================] - 22s 48ms/step - loss: 0.1878 - accuracy: 0.9317 - val_loss: 1.7235 - val_accuracy: 0.6776\n",
            "Epoch 222/250\n",
            "449/448 [==============================] - 22s 49ms/step - loss: 0.1876 - accuracy: 0.9306 - val_loss: 1.7971 - val_accuracy: 0.6810\n",
            "Epoch 223/250\n",
            "449/448 [==============================] - 22s 48ms/step - loss: 0.1857 - accuracy: 0.9322 - val_loss: 1.6709 - val_accuracy: 0.6835\n",
            "Epoch 224/250\n",
            "449/448 [==============================] - 22s 49ms/step - loss: 0.1873 - accuracy: 0.9320 - val_loss: 1.7058 - val_accuracy: 0.6807\n",
            "Epoch 225/250\n",
            "449/448 [==============================] - 22s 48ms/step - loss: 0.1898 - accuracy: 0.9321 - val_loss: 1.7942 - val_accuracy: 0.6790\n",
            "Epoch 226/250\n",
            "449/448 [==============================] - 22s 48ms/step - loss: 0.1904 - accuracy: 0.9318 - val_loss: 1.7145 - val_accuracy: 0.6835\n",
            "Epoch 227/250\n",
            "449/448 [==============================] - 22s 49ms/step - loss: 0.1899 - accuracy: 0.9319 - val_loss: 1.8125 - val_accuracy: 0.6743\n",
            "Epoch 228/250\n",
            "449/448 [==============================] - 22s 48ms/step - loss: 0.1900 - accuracy: 0.9317 - val_loss: 1.7869 - val_accuracy: 0.6762\n",
            "Epoch 229/250\n",
            "449/448 [==============================] - 22s 49ms/step - loss: 0.1919 - accuracy: 0.9292 - val_loss: 1.6985 - val_accuracy: 0.6732\n",
            "Epoch 230/250\n",
            "449/448 [==============================] - 22s 49ms/step - loss: 0.1866 - accuracy: 0.9320 - val_loss: 1.6831 - val_accuracy: 0.6754\n",
            "Epoch 231/250\n",
            "449/448 [==============================] - 22s 49ms/step - loss: 0.1890 - accuracy: 0.9325 - val_loss: 1.7295 - val_accuracy: 0.6734\n",
            "Epoch 232/250\n",
            "449/448 [==============================] - 22s 48ms/step - loss: 0.1815 - accuracy: 0.9333 - val_loss: 1.8031 - val_accuracy: 0.6712\n",
            "Epoch 233/250\n",
            "449/448 [==============================] - 22s 49ms/step - loss: 0.1872 - accuracy: 0.9337 - val_loss: 1.7741 - val_accuracy: 0.6748\n",
            "Epoch 234/250\n",
            "449/448 [==============================] - 22s 48ms/step - loss: 0.1833 - accuracy: 0.9332 - val_loss: 1.7689 - val_accuracy: 0.6704\n",
            "Epoch 235/250\n",
            "449/448 [==============================] - 22s 48ms/step - loss: 0.1880 - accuracy: 0.9327 - val_loss: 1.6975 - val_accuracy: 0.6787\n",
            "Epoch 236/250\n",
            "449/448 [==============================] - 22s 48ms/step - loss: 0.1814 - accuracy: 0.9357 - val_loss: 1.7827 - val_accuracy: 0.6734\n",
            "Epoch 237/250\n",
            "449/448 [==============================] - 22s 48ms/step - loss: 0.1823 - accuracy: 0.9348 - val_loss: 1.8394 - val_accuracy: 0.6807\n",
            "Epoch 238/250\n",
            "449/448 [==============================] - 22s 48ms/step - loss: 0.1777 - accuracy: 0.9366 - val_loss: 1.7149 - val_accuracy: 0.6826\n",
            "Epoch 239/250\n",
            "449/448 [==============================] - 22s 48ms/step - loss: 0.1809 - accuracy: 0.9356 - val_loss: 1.7211 - val_accuracy: 0.6765\n",
            "Epoch 240/250\n",
            "449/448 [==============================] - 22s 48ms/step - loss: 0.1816 - accuracy: 0.9352 - val_loss: 1.7649 - val_accuracy: 0.6760\n",
            "Epoch 241/250\n",
            "449/448 [==============================] - 22s 48ms/step - loss: 0.1795 - accuracy: 0.9355 - val_loss: 1.7495 - val_accuracy: 0.6715\n",
            "Epoch 242/250\n",
            "449/448 [==============================] - 22s 48ms/step - loss: 0.1755 - accuracy: 0.9357 - val_loss: 1.7599 - val_accuracy: 0.6701\n",
            "Epoch 243/250\n",
            "449/448 [==============================] - 22s 48ms/step - loss: 0.1782 - accuracy: 0.9355 - val_loss: 1.7503 - val_accuracy: 0.6762\n",
            "Epoch 244/250\n",
            "449/448 [==============================] - 22s 49ms/step - loss: 0.1797 - accuracy: 0.9348 - val_loss: 1.7657 - val_accuracy: 0.6737\n",
            "Epoch 245/250\n",
            "449/448 [==============================] - 22s 48ms/step - loss: 0.1801 - accuracy: 0.9360 - val_loss: 1.8154 - val_accuracy: 0.6712\n",
            "Epoch 246/250\n",
            "449/448 [==============================] - 22s 48ms/step - loss: 0.1789 - accuracy: 0.9364 - val_loss: 1.8065 - val_accuracy: 0.6801\n",
            "Epoch 247/250\n",
            "449/448 [==============================] - 22s 49ms/step - loss: 0.1737 - accuracy: 0.9378 - val_loss: 1.7326 - val_accuracy: 0.6840\n",
            "Epoch 248/250\n",
            "449/448 [==============================] - 22s 48ms/step - loss: 0.1744 - accuracy: 0.9386 - val_loss: 1.7203 - val_accuracy: 0.6779\n",
            "Epoch 249/250\n",
            "449/448 [==============================] - 22s 48ms/step - loss: 0.1736 - accuracy: 0.9381 - val_loss: 1.6840 - val_accuracy: 0.6693\n",
            "Epoch 250/250\n",
            "449/448 [==============================] - 22s 49ms/step - loss: 0.1806 - accuracy: 0.9356 - val_loss: 1.7984 - val_accuracy: 0.6796\n"
          ],
          "name": "stdout"
        }
      ]
    },
    {
      "cell_type": "code",
      "metadata": {
        "id": "IgofLyrzjryG",
        "colab_type": "code",
        "colab": {
          "base_uri": "https://localhost:8080/",
          "height": 608
        },
        "outputId": "adb3c247-ff2e-4244-b4f4-a03b493b7fbf"
      },
      "source": [
        "# visualizing losses and accuracy\n",
        "%matplotlib inline\n",
        "\n",
        "train_loss=history.history['loss']\n",
        "val_loss=history.history['val_loss']\n",
        "train_acc=history.history['accuracy']\n",
        "val_acc=history.history['val_accuracy']\n",
        "\n",
        "epochs = range(len(train_acc))\n",
        "\n",
        "plt.plot(epochs,train_loss,'r', label='train_loss')\n",
        "plt.plot(epochs,val_loss,'b', label='val_loss')\n",
        "plt.title('train_loss vs val_loss')\n",
        "plt.xlabel('epoch')\n",
        "plt.ylabel('loss')\n",
        "plt.legend()\n",
        "plt.figure()\n",
        "\n",
        "plt.plot(epochs,train_acc,'r', label='train_acc')\n",
        "plt.plot(epochs,val_acc,'b', label='val_acc')\n",
        "plt.title('train_acc vs val_acc')\n",
        "plt.xlabel('epoch')\n",
        "plt.ylabel('accuracy')\n",
        "plt.legend()\n",
        "plt.figure()"
      ],
      "execution_count": 28,
      "outputs": [
        {
          "output_type": "execute_result",
          "data": {
            "text/plain": [
              "<Figure size 432x288 with 0 Axes>"
            ]
          },
          "metadata": {
            "tags": []
          },
          "execution_count": 28
        },
        {
          "output_type": "display_data",
          "data": {
            "image/png": "[encoded data removed]",
            "text/plain": [
              "<Figure size 432x288 with 1 Axes>"
            ]
          },
          "metadata": {
            "tags": [],
            "needs_background": "light"
          }
        },
        {
          "output_type": "display_data",
          "data": {
            "image/png": "[encoded data removed]",
            "text/plain": [
              "<Figure size 432x288 with 1 Axes>"
            ]
          },
          "metadata": {
            "tags": [],
            "needs_background": "light"
          }
        },
        {
          "output_type": "display_data",
          "data": {
            "text/plain": [
              "<Figure size 432x288 with 0 Axes>"
            ]
          },
          "metadata": {
            "tags": []
          }
        }
      ]
    },
    {
      "cell_type": "code",
      "metadata": {
        "id": "eqMlMk2Ujrv0",
        "colab_type": "code",
        "colab": {}
      },
      "source": [
        "model.save('/content/drive/My Drive/DL-Assignment-2/fer2013.h5')"
      ],
      "execution_count": 0,
      "outputs": []
    },
    {
      "cell_type": "code",
      "metadata": {
        "id": "tdbjG6THjrsS",
        "colab_type": "code",
        "colab": {
          "base_uri": "https://localhost:8080/",
          "height": 52
        },
        "outputId": "00212465-d015-48d5-9f3a-a9588de32572"
      },
      "source": [
        "loss = model.evaluate(test_flow, steps = len(X_test)/ batch_size)\n",
        "print(f'Test accuracy : {loss[1]*100}%')"
      ],
      "execution_count": 31,
      "outputs": [
        {
          "output_type": "stream",
          "text": [
            "57/56 [==============================] - 1s 15ms/step - loss: 1.6252 - accuracy: 0.6854\n",
            "Test accuracy : 68.5427725315094%\n"
          ],
          "name": "stdout"
        }
      ]
    },
    {
      "cell_type": "code",
      "metadata": {
        "id": "wAQceYkyjrpz",
        "colab_type": "code",
        "colab": {}
      },
      "source": [
        "def plot_confusion_matrix(y_test, y_pred, classes, normalize=False, title='Unnormalized confusion matrix', cmap=plt.cm.Blues):\n",
        "  cm = confusion_matrix(y_test, y_pred)\n",
        "    \n",
        "  if normalize:\n",
        "    cm = np.round(cm.astype('float') / cm.sum(axis=1)[:, np.newaxis], 2)\n",
        "      \n",
        "  np.set_printoptions(precision=2)\n",
        "      \n",
        "  plt.imshow(cm, interpolation='nearest', cmap=cmap)\n",
        "  plt.title(title)\n",
        "  plt.colorbar()\n",
        "  tick_marks = np.arange(len(classes))\n",
        "  plt.xticks(tick_marks, classes, rotation=45)\n",
        "  plt.yticks(tick_marks, classes)\n",
        "\n",
        "  thresh = cm.min() + (cm.max() - cm.min()) / 2.\n",
        "  for i, j in itertools.product(range(cm.shape[0]), range(cm.shape[1])):\n",
        "    plt.text(j, i, cm[i, j], horizontalalignment=\"center\", color=\"white\" if cm[i, j] > thresh else \"black\")\n",
        "\n",
        "  plt.tight_layout()\n",
        "  plt.ylabel('True expression')\n",
        "  plt.xlabel('Predicted expression')\n",
        "  plt.show()"
      ],
      "execution_count": 0,
      "outputs": []
    },
    {
      "cell_type": "code",
      "metadata": {
        "id": "P_Ur6J24jrmm",
        "colab_type": "code",
        "colab": {}
      },
      "source": [
        "y_pred_temp = model.predict(X_test/255. , )\n",
        "y_pred = np.argmax(y_pred_temp, axis=1)\n",
        "t_te = np.argmax(y_test, axis=1)"
      ],
      "execution_count": 0,
      "outputs": []
    },
    {
      "cell_type": "code",
      "metadata": {
        "id": "3Umov1O0jGNP",
        "colab_type": "code",
        "colab": {
          "base_uri": "https://localhost:8080/",
          "height": 52
        },
        "outputId": "637af429-71ca-4ff7-8609-c47e04711ef7"
      },
      "source": [
        "classes=np.array((\"Angry\", \"Disgust\", \"Fear\", \"Happy\", \"Sad\", \"Surprise\", \"Neutral\"))\n",
        "classes"
      ],
      "execution_count": 42,
      "outputs": [
        {
          "output_type": "execute_result",
          "data": {
            "text/plain": [
              "array(['Angry', 'Disgust', 'Fear', 'Happy', 'Sad', 'Surprise', 'Neutral'],\n",
              "      dtype='<U8')"
            ]
          },
          "metadata": {
            "tags": []
          },
          "execution_count": 42
        }
      ]
    },
    {
      "cell_type": "code",
      "metadata": {
        "id": "deSMAwUGjriW",
        "colab_type": "code",
        "colab": {
          "base_uri": "https://localhost:8080/",
          "height": 454
        },
        "outputId": "7ef20c88-475f-45ac-8869-08a22bc3fe49"
      },
      "source": [
        "from sklearn.metrics import confusion_matrix\n",
        "import itertools\n",
        "plt.figure(figsize=(8,6))\n",
        "fig = plot_confusion_matrix(y_test=t_te, y_pred=y_pred, classes=classes, normalize=True, cmap='copper_r'\n",
        ", title='Average accuracy: ' + str(np.sum(y_pred == t_te)/len(t_te)) + '\\n')"
      ],
      "execution_count": 54,
      "outputs": [
        {
          "output_type": "display_data",
          "data": {
            "image/png": "[encoded data removed]",
            "text/plain": [
              "<Figure size 576x432 with 2 Axes>"
            ]
          },
          "metadata": {
            "tags": [],
            "needs_background": "light"
          }
        }
      ]
    }
  ]
}